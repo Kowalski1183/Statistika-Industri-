{
 "cells": [
  {
   "cell_type": "code",
   "execution_count": 1,
   "id": "5146d865",
   "metadata": {},
   "outputs": [],
   "source": [
    "import pandas as pd\n",
    "import math\n",
    "import numpy as np\n",
    "import matplotlib.pyplot as plt\n",
    "import seaborn as sns\n",
    "from scipy.stats import norm\n",
    "\n",
    "import pandas as pd\n",
    "import math\n",
    "import numpy as np\n",
    "import matplotlib.pyplot as plt\n",
    "import seaborn as sns\n",
    "from scipy import stats\n",
    "from scipy.stats import norm\n",
    "from sklearn.preprocessing import PowerTransformer\n",
    "from sklearn.preprocessing import QuantileTransformer\n",
    "from sklearn.preprocessing import RobustScaler\n",
    "import matplotlib.pyplot as plt\n",
    "from scipy.stats import shapiro\n",
    "from statsmodels.graphics.gofplots import qqplot"
   ]
  },
  {
   "cell_type": "code",
   "execution_count": 6,
   "id": "6b41212b",
   "metadata": {},
   "outputs": [],
   "source": [
    "# Specify the path to your .xlsx file\n",
    "file_path_populasi = \"C://Users//LENOVO//Downloads//STATIN_DATA\\wildfire_weather_data.xlsx\"\n",
    "# Specify the path to your .xlsx file\n",
    "file_path_sample = \"C://Users//LENOVO//Downloads//STATIN_DATA//sample_wildfire_weather_data.csv\"\n",
    "\n",
    "# Read the CSV file\n",
    "populasi_df =pd.read_excel(file_path_populasi, engine='openpyxl')\n",
    "# Read the CSV file\n",
    "sample_df = pd.read_csv(file_path_sample)\n"
   ]
  },
  {
   "cell_type": "code",
   "execution_count": 7,
   "id": "5b52845d",
   "metadata": {},
   "outputs": [
    {
     "data": {
      "text/html": [
       "<div>\n",
       "<style scoped>\n",
       "    .dataframe tbody tr th:only-of-type {\n",
       "        vertical-align: middle;\n",
       "    }\n",
       "\n",
       "    .dataframe tbody tr th {\n",
       "        vertical-align: top;\n",
       "    }\n",
       "\n",
       "    .dataframe thead th {\n",
       "        text-align: right;\n",
       "    }\n",
       "</style>\n",
       "<table border=\"1\" class=\"dataframe\">\n",
       "  <thead>\n",
       "    <tr style=\"text-align: right;\">\n",
       "      <th></th>\n",
       "      <th>Estimated_fire_area</th>\n",
       "      <th>Temperature_Mean</th>\n",
       "      <th>WindSpeed_Mean</th>\n",
       "    </tr>\n",
       "  </thead>\n",
       "  <tbody>\n",
       "    <tr>\n",
       "      <th>count</th>\n",
       "      <td>26406.000000</td>\n",
       "      <td>26397.000000</td>\n",
       "      <td>26390.000000</td>\n",
       "    </tr>\n",
       "    <tr>\n",
       "      <th>mean</th>\n",
       "      <td>144.297966</td>\n",
       "      <td>21.336691</td>\n",
       "      <td>3.739787</td>\n",
       "    </tr>\n",
       "    <tr>\n",
       "      <th>std</th>\n",
       "      <td>314.453847</td>\n",
       "      <td>6.619631</td>\n",
       "      <td>0.935309</td>\n",
       "    </tr>\n",
       "    <tr>\n",
       "      <th>min</th>\n",
       "      <td>1.000000</td>\n",
       "      <td>2.912701</td>\n",
       "      <td>1.291636</td>\n",
       "    </tr>\n",
       "    <tr>\n",
       "      <th>25%</th>\n",
       "      <td>8.911875</td>\n",
       "      <td>16.277223</td>\n",
       "      <td>3.092844</td>\n",
       "    </tr>\n",
       "    <tr>\n",
       "      <th>50%</th>\n",
       "      <td>38.434091</td>\n",
       "      <td>21.633404</td>\n",
       "      <td>3.654666</td>\n",
       "    </tr>\n",
       "    <tr>\n",
       "      <th>75%</th>\n",
       "      <td>146.951278</td>\n",
       "      <td>26.973708</td>\n",
       "      <td>4.302492</td>\n",
       "    </tr>\n",
       "    <tr>\n",
       "      <th>max</th>\n",
       "      <td>10120.943170</td>\n",
       "      <td>38.130627</td>\n",
       "      <td>9.054204</td>\n",
       "    </tr>\n",
       "  </tbody>\n",
       "</table>\n",
       "</div>"
      ],
      "text/plain": [
       "       Estimated_fire_area  Temperature_Mean  WindSpeed_Mean\n",
       "count         26406.000000      26397.000000    26390.000000\n",
       "mean            144.297966         21.336691        3.739787\n",
       "std             314.453847          6.619631        0.935309\n",
       "min               1.000000          2.912701        1.291636\n",
       "25%               8.911875         16.277223        3.092844\n",
       "50%              38.434091         21.633404        3.654666\n",
       "75%             146.951278         26.973708        4.302492\n",
       "max           10120.943170         38.130627        9.054204"
      ]
     },
     "execution_count": 7,
     "metadata": {},
     "output_type": "execute_result"
    }
   ],
   "source": [
    "populasi_df.describe()"
   ]
  },
  {
   "cell_type": "code",
   "execution_count": 8,
   "id": "688c7411",
   "metadata": {},
   "outputs": [
    {
     "data": {
      "text/html": [
       "<div>\n",
       "<style scoped>\n",
       "    .dataframe tbody tr th:only-of-type {\n",
       "        vertical-align: middle;\n",
       "    }\n",
       "\n",
       "    .dataframe tbody tr th {\n",
       "        vertical-align: top;\n",
       "    }\n",
       "\n",
       "    .dataframe thead th {\n",
       "        text-align: right;\n",
       "    }\n",
       "</style>\n",
       "<table border=\"1\" class=\"dataframe\">\n",
       "  <thead>\n",
       "    <tr style=\"text-align: right;\">\n",
       "      <th></th>\n",
       "      <th>Estimated_fire_area</th>\n",
       "      <th>Temperature_Mean</th>\n",
       "      <th>WindSpeed_Mean</th>\n",
       "    </tr>\n",
       "  </thead>\n",
       "  <tbody>\n",
       "    <tr>\n",
       "      <th>count</th>\n",
       "      <td>392.000000</td>\n",
       "      <td>392.000000</td>\n",
       "      <td>392.000000</td>\n",
       "    </tr>\n",
       "    <tr>\n",
       "      <th>mean</th>\n",
       "      <td>140.235901</td>\n",
       "      <td>21.597365</td>\n",
       "      <td>3.734186</td>\n",
       "    </tr>\n",
       "    <tr>\n",
       "      <th>std</th>\n",
       "      <td>301.383276</td>\n",
       "      <td>6.391048</td>\n",
       "      <td>0.929961</td>\n",
       "    </tr>\n",
       "    <tr>\n",
       "      <th>min</th>\n",
       "      <td>1.000000</td>\n",
       "      <td>3.904376</td>\n",
       "      <td>1.698793</td>\n",
       "    </tr>\n",
       "    <tr>\n",
       "      <th>25%</th>\n",
       "      <td>8.979375</td>\n",
       "      <td>16.829590</td>\n",
       "      <td>3.074841</td>\n",
       "    </tr>\n",
       "    <tr>\n",
       "      <th>50%</th>\n",
       "      <td>35.278286</td>\n",
       "      <td>22.465655</td>\n",
       "      <td>3.657904</td>\n",
       "    </tr>\n",
       "    <tr>\n",
       "      <th>75%</th>\n",
       "      <td>145.609566</td>\n",
       "      <td>26.756735</td>\n",
       "      <td>4.241295</td>\n",
       "    </tr>\n",
       "    <tr>\n",
       "      <th>max</th>\n",
       "      <td>3810.988436</td>\n",
       "      <td>34.162685</td>\n",
       "      <td>7.192822</td>\n",
       "    </tr>\n",
       "  </tbody>\n",
       "</table>\n",
       "</div>"
      ],
      "text/plain": [
       "       Estimated_fire_area  Temperature_Mean  WindSpeed_Mean\n",
       "count           392.000000        392.000000      392.000000\n",
       "mean            140.235901         21.597365        3.734186\n",
       "std             301.383276          6.391048        0.929961\n",
       "min               1.000000          3.904376        1.698793\n",
       "25%               8.979375         16.829590        3.074841\n",
       "50%              35.278286         22.465655        3.657904\n",
       "75%             145.609566         26.756735        4.241295\n",
       "max            3810.988436         34.162685        7.192822"
      ]
     },
     "execution_count": 8,
     "metadata": {},
     "output_type": "execute_result"
    }
   ],
   "source": [
    "sample_df.describe()"
   ]
  },
  {
   "cell_type": "code",
   "execution_count": 21,
   "id": "c99adeaa",
   "metadata": {},
   "outputs": [],
   "source": [
    "fire_area = 'Estimated_fire_area'\n",
    "temp ='Temperature_Mean'\n",
    "wind_speed = 'WindSpeed_Mean'"
   ]
  },
  {
   "cell_type": "code",
   "execution_count": 26,
   "id": "6c14650e",
   "metadata": {},
   "outputs": [
    {
     "name": "stdout",
     "output_type": "stream",
     "text": [
      "Jumlah data yang lebih  besar > 140 : 6862\n",
      "Jumlah data pada populasi : 26406\n",
      "Proporsi luas area yang terbakar melebihi rata-rata :25.98651821555707%\n"
     ]
    }
   ],
   "source": [
    "# Calculate the mean of WindSpeed_Mean\n",
    "\n",
    "# Count the number of values in WindSpeed_Mean that are greater than the mean\n",
    "count_greater_than = (populasi_df['Estimated_fire_area'] > 140).sum()\n",
    "print(f'Jumlah data yang lebih  besar > 140 : {count_greater_than}')\n",
    "print(f'Jumlah data pada populasi : {len(populasi_df)}')\n",
    "print(f'Proporsi luas area yang terbakar melebihi rata-rata :{count_greater_than/len(populasi_df)*100}%')"
   ]
  },
  {
   "cell_type": "code",
   "execution_count": 27,
   "id": "56ab5ecd",
   "metadata": {},
   "outputs": [
    {
     "name": "stdout",
     "output_type": "stream",
     "text": [
      "Jumlah data yang lebih  besar > log10(140) : 103\n",
      "Jumlah data pada populasi : 392\n",
      "Proporsi luas area yang terbakar melebihi rata-rata :26.27551020408163%\n"
     ]
    }
   ],
   "source": [
    "data = sample_df[fire_area]\n",
    "data = np.log10(data)\n",
    "count_greater_than = (data > np.log10(140)).sum()\n",
    "print(f'Jumlah data yang lebih  besar > log10(140) : {count_greater_than}')\n",
    "print(f'Jumlah data pada populasi : {len(sample_df)}')\n",
    "print(f'Proporsi luas area yang terbakar melebihi rata-rata :{count_greater_than/len(sample_df)*100}%')"
   ]
  },
  {
   "cell_type": "code",
   "execution_count": null,
   "id": "d9a10544",
   "metadata": {},
   "outputs": [],
   "source": []
  }
 ],
 "metadata": {
  "kernelspec": {
   "display_name": "Python 3 (ipykernel)",
   "language": "python",
   "name": "python3"
  },
  "language_info": {
   "codemirror_mode": {
    "name": "ipython",
    "version": 3
   },
   "file_extension": ".py",
   "mimetype": "text/x-python",
   "name": "python",
   "nbconvert_exporter": "python",
   "pygments_lexer": "ipython3",
   "version": "3.11.2"
  }
 },
 "nbformat": 4,
 "nbformat_minor": 5
}
