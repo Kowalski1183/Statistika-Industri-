{
 "cells": [
  {
   "cell_type": "code",
   "execution_count": 89,
   "id": "66e618f3",
   "metadata": {},
   "outputs": [],
   "source": [
    "import pandas as pd\n",
    "import statsmodels.api as sm\n",
    "from statsmodels.formula.api import ols\n",
    "import matplotlib.pyplot as plt\n",
    "import pylab as pl\n",
    "import numpy as np\n",
    "from sklearn import linear_model\n",
    "from sklearn.metrics import r2_score\n",
    "from scipy.stats import t\n",
    "pd.options.mode.chained_assignment = None \n",
    "from sklearn import linear_model\n",
    "%matplotlib inline"
   ]
  },
  {
   "cell_type": "code",
   "execution_count": 90,
   "id": "a31258d7",
   "metadata": {},
   "outputs": [
    {
     "data": {
      "text/html": [
       "<div>\n",
       "<style scoped>\n",
       "    .dataframe tbody tr th:only-of-type {\n",
       "        vertical-align: middle;\n",
       "    }\n",
       "\n",
       "    .dataframe tbody tr th {\n",
       "        vertical-align: top;\n",
       "    }\n",
       "\n",
       "    .dataframe thead th {\n",
       "        text-align: right;\n",
       "    }\n",
       "</style>\n",
       "<table border=\"1\" class=\"dataframe\">\n",
       "  <thead>\n",
       "    <tr style=\"text-align: right;\">\n",
       "      <th></th>\n",
       "      <th>Region</th>\n",
       "      <th>Estimated_fire_area</th>\n",
       "      <th>Temperature_Mean</th>\n",
       "      <th>WindSpeed_Mean</th>\n",
       "    </tr>\n",
       "  </thead>\n",
       "  <tbody>\n",
       "    <tr>\n",
       "      <th>0</th>\n",
       "      <td>WA</td>\n",
       "      <td>639.982000</td>\n",
       "      <td>23.390953</td>\n",
       "      <td>3.551176</td>\n",
       "    </tr>\n",
       "    <tr>\n",
       "      <th>1</th>\n",
       "      <td>WA</td>\n",
       "      <td>593.569167</td>\n",
       "      <td>23.552620</td>\n",
       "      <td>4.091700</td>\n",
       "    </tr>\n",
       "    <tr>\n",
       "      <th>2</th>\n",
       "      <td>WA</td>\n",
       "      <td>37.345455</td>\n",
       "      <td>14.617797</td>\n",
       "      <td>4.637551</td>\n",
       "    </tr>\n",
       "    <tr>\n",
       "      <th>3</th>\n",
       "      <td>WA</td>\n",
       "      <td>544.986486</td>\n",
       "      <td>25.227217</td>\n",
       "      <td>4.334514</td>\n",
       "    </tr>\n",
       "    <tr>\n",
       "      <th>4</th>\n",
       "      <td>WA</td>\n",
       "      <td>35.823600</td>\n",
       "      <td>19.427573</td>\n",
       "      <td>4.840414</td>\n",
       "    </tr>\n",
       "    <tr>\n",
       "      <th>...</th>\n",
       "      <td>...</td>\n",
       "      <td>...</td>\n",
       "      <td>...</td>\n",
       "      <td>...</td>\n",
       "    </tr>\n",
       "    <tr>\n",
       "      <th>387</th>\n",
       "      <td>TA</td>\n",
       "      <td>29.795000</td>\n",
       "      <td>8.267706</td>\n",
       "      <td>1.748738</td>\n",
       "    </tr>\n",
       "    <tr>\n",
       "      <th>388</th>\n",
       "      <td>TA</td>\n",
       "      <td>35.423571</td>\n",
       "      <td>19.759433</td>\n",
       "      <td>3.482381</td>\n",
       "    </tr>\n",
       "    <tr>\n",
       "      <th>389</th>\n",
       "      <td>TA</td>\n",
       "      <td>14.536667</td>\n",
       "      <td>10.675490</td>\n",
       "      <td>2.851847</td>\n",
       "    </tr>\n",
       "    <tr>\n",
       "      <th>390</th>\n",
       "      <td>TA</td>\n",
       "      <td>1.000000</td>\n",
       "      <td>9.040038</td>\n",
       "      <td>3.716907</td>\n",
       "    </tr>\n",
       "    <tr>\n",
       "      <th>391</th>\n",
       "      <td>TA</td>\n",
       "      <td>2.200000</td>\n",
       "      <td>17.762332</td>\n",
       "      <td>2.908519</td>\n",
       "    </tr>\n",
       "  </tbody>\n",
       "</table>\n",
       "<p>392 rows × 4 columns</p>\n",
       "</div>"
      ],
      "text/plain": [
       "    Region  Estimated_fire_area  Temperature_Mean  WindSpeed_Mean\n",
       "0       WA           639.982000         23.390953        3.551176\n",
       "1       WA           593.569167         23.552620        4.091700\n",
       "2       WA            37.345455         14.617797        4.637551\n",
       "3       WA           544.986486         25.227217        4.334514\n",
       "4       WA            35.823600         19.427573        4.840414\n",
       "..     ...                  ...               ...             ...\n",
       "387     TA            29.795000          8.267706        1.748738\n",
       "388     TA            35.423571         19.759433        3.482381\n",
       "389     TA            14.536667         10.675490        2.851847\n",
       "390     TA             1.000000          9.040038        3.716907\n",
       "391     TA             2.200000         17.762332        2.908519\n",
       "\n",
       "[392 rows x 4 columns]"
      ]
     },
     "execution_count": 90,
     "metadata": {},
     "output_type": "execute_result"
    }
   ],
   "source": [
    "#SAMPLE\n",
    "\n",
    "file_path = \"C://Users//LENOVO//Downloads//STATIN_DATA//sample_wildfire_weather_data.csv\"\n",
    "sample = pd.read_csv(file_path)\n",
    "sample"
   ]
  },
  {
   "cell_type": "markdown",
   "id": "9d2e73b4",
   "metadata": {},
   "source": [
    "# Hubungan temperature_mean (X) dengan Estimated_fire_area (Y)"
   ]
  },
  {
   "cell_type": "markdown",
   "id": "f2078ca1",
   "metadata": {},
   "source": [
    "Ngikutin Tabel di pdf halaman 14 :"
   ]
  },
  {
   "cell_type": "code",
   "execution_count": 91,
   "id": "824bef66",
   "metadata": {},
   "outputs": [
    {
     "data": {
      "text/html": [
       "<div>\n",
       "<style scoped>\n",
       "    .dataframe tbody tr th:only-of-type {\n",
       "        vertical-align: middle;\n",
       "    }\n",
       "\n",
       "    .dataframe tbody tr th {\n",
       "        vertical-align: top;\n",
       "    }\n",
       "\n",
       "    .dataframe thead th {\n",
       "        text-align: right;\n",
       "    }\n",
       "</style>\n",
       "<table border=\"1\" class=\"dataframe\">\n",
       "  <thead>\n",
       "    <tr style=\"text-align: right;\">\n",
       "      <th></th>\n",
       "      <th>Temperature_Mean</th>\n",
       "      <th>Estimated_fire_area</th>\n",
       "      <th>x^2</th>\n",
       "      <th>y^2</th>\n",
       "      <th>xy</th>\n",
       "    </tr>\n",
       "  </thead>\n",
       "  <tbody>\n",
       "    <tr>\n",
       "      <th>0</th>\n",
       "      <td>23.390953</td>\n",
       "      <td>639.982000</td>\n",
       "      <td>547.136693</td>\n",
       "      <td>4.095770e+05</td>\n",
       "      <td>1.496979e+04</td>\n",
       "    </tr>\n",
       "    <tr>\n",
       "      <th>1</th>\n",
       "      <td>23.552620</td>\n",
       "      <td>593.569167</td>\n",
       "      <td>554.725932</td>\n",
       "      <td>3.523244e+05</td>\n",
       "      <td>1.398011e+04</td>\n",
       "    </tr>\n",
       "    <tr>\n",
       "      <th>2</th>\n",
       "      <td>14.617797</td>\n",
       "      <td>37.345455</td>\n",
       "      <td>213.679978</td>\n",
       "      <td>1.394683e+03</td>\n",
       "      <td>5.459083e+02</td>\n",
       "    </tr>\n",
       "    <tr>\n",
       "      <th>3</th>\n",
       "      <td>25.227217</td>\n",
       "      <td>544.986486</td>\n",
       "      <td>636.412463</td>\n",
       "      <td>2.970103e+05</td>\n",
       "      <td>1.374849e+04</td>\n",
       "    </tr>\n",
       "    <tr>\n",
       "      <th>4</th>\n",
       "      <td>19.427573</td>\n",
       "      <td>35.823600</td>\n",
       "      <td>377.430596</td>\n",
       "      <td>1.283330e+03</td>\n",
       "      <td>6.959656e+02</td>\n",
       "    </tr>\n",
       "    <tr>\n",
       "      <th>...</th>\n",
       "      <td>...</td>\n",
       "      <td>...</td>\n",
       "      <td>...</td>\n",
       "      <td>...</td>\n",
       "      <td>...</td>\n",
       "    </tr>\n",
       "    <tr>\n",
       "      <th>388</th>\n",
       "      <td>19.759433</td>\n",
       "      <td>35.423571</td>\n",
       "      <td>390.435210</td>\n",
       "      <td>1.254829e+03</td>\n",
       "      <td>6.999497e+02</td>\n",
       "    </tr>\n",
       "    <tr>\n",
       "      <th>389</th>\n",
       "      <td>10.675490</td>\n",
       "      <td>14.536667</td>\n",
       "      <td>113.966076</td>\n",
       "      <td>2.113147e+02</td>\n",
       "      <td>1.551860e+02</td>\n",
       "    </tr>\n",
       "    <tr>\n",
       "      <th>390</th>\n",
       "      <td>9.040038</td>\n",
       "      <td>1.000000</td>\n",
       "      <td>81.722282</td>\n",
       "      <td>1.000000e+00</td>\n",
       "      <td>9.040038e+00</td>\n",
       "    </tr>\n",
       "    <tr>\n",
       "      <th>391</th>\n",
       "      <td>17.762332</td>\n",
       "      <td>2.200000</td>\n",
       "      <td>315.500438</td>\n",
       "      <td>4.840000e+00</td>\n",
       "      <td>3.907713e+01</td>\n",
       "    </tr>\n",
       "    <tr>\n",
       "      <th>Σ</th>\n",
       "      <td>8466.166922</td>\n",
       "      <td>54972.473016</td>\n",
       "      <td>198817.482399</td>\n",
       "      <td>4.322438e+07</td>\n",
       "      <td>1.347117e+06</td>\n",
       "    </tr>\n",
       "  </tbody>\n",
       "</table>\n",
       "<p>393 rows × 5 columns</p>\n",
       "</div>"
      ],
      "text/plain": [
       "     Temperature_Mean  Estimated_fire_area            x^2           y^2  \\\n",
       "0           23.390953           639.982000     547.136693  4.095770e+05   \n",
       "1           23.552620           593.569167     554.725932  3.523244e+05   \n",
       "2           14.617797            37.345455     213.679978  1.394683e+03   \n",
       "3           25.227217           544.986486     636.412463  2.970103e+05   \n",
       "4           19.427573            35.823600     377.430596  1.283330e+03   \n",
       "..                ...                  ...            ...           ...   \n",
       "388         19.759433            35.423571     390.435210  1.254829e+03   \n",
       "389         10.675490            14.536667     113.966076  2.113147e+02   \n",
       "390          9.040038             1.000000      81.722282  1.000000e+00   \n",
       "391         17.762332             2.200000     315.500438  4.840000e+00   \n",
       "Σ         8466.166922         54972.473016  198817.482399  4.322438e+07   \n",
       "\n",
       "               xy  \n",
       "0    1.496979e+04  \n",
       "1    1.398011e+04  \n",
       "2    5.459083e+02  \n",
       "3    1.374849e+04  \n",
       "4    6.959656e+02  \n",
       "..            ...  \n",
       "388  6.999497e+02  \n",
       "389  1.551860e+02  \n",
       "390  9.040038e+00  \n",
       "391  3.907713e+01  \n",
       "Σ    1.347117e+06  \n",
       "\n",
       "[393 rows x 5 columns]"
      ]
     },
     "execution_count": 91,
     "metadata": {},
     "output_type": "execute_result"
    }
   ],
   "source": [
    "data = sample[['Temperature_Mean','Estimated_fire_area']]\n",
    "pd.options.mode.chained_assignment = None  # default='warn'\n",
    "\n",
    "data['x^2'] = data['Temperature_Mean'] ** 2\n",
    "data['y^2'] = data['Estimated_fire_area'] ** 2\n",
    "data['xy'] = data['Temperature_Mean'] * data['Estimated_fire_area']\n",
    "sums = data.sum().to_frame().T  \n",
    "sums.index = ['Σ']  \n",
    "data_with_sums = pd.concat([data, sums])\n",
    "\n",
    "data_with_sums"
   ]
  },
  {
   "cell_type": "markdown",
   "id": "fdbd9b5f",
   "metadata": {},
   "source": [
    "Rumus manual sesuai pdf halaman 14 :"
   ]
  },
  {
   "cell_type": "code",
   "execution_count": 92,
   "id": "cc428a66",
   "metadata": {},
   "outputs": [
    {
     "name": "stdout",
     "output_type": "stream",
     "text": [
      "Koefisien Korelasi (r)      : 0.21225676232812754 / 21.225676232812756%      \n",
      "Koefisien Diterminasi (r^2) : 0.045052933154019224 / 4.505293315401922%\n"
     ]
    }
   ],
   "source": [
    "n = len(data_with_sums) - 1  # The number of observations, excluding the sum row\n",
    "sum_x = data_with_sums.iloc[-1]['Temperature_Mean']  # Σx\n",
    "sum_y = data_with_sums.iloc[-1]['Estimated_fire_area']  # Σy\n",
    "sum_x2 = data_with_sums.iloc[-1]['x^2']  # Σx^2\n",
    "sum_y2 = data_with_sums.iloc[-1]['y^2']  # Σy^2\n",
    "sum_xy = data_with_sums.iloc[-1]['xy']  # Σxy\n",
    "# print(sum_x,sum_y,sum_x2,sum_y2,sum_xy) #KALAU MAU AKSES SIGMA TIAP KOLOM**\n",
    "# Calculate the correlation coefficient (r)\n",
    "r_numerator = (n * sum_xy) - (sum_x * sum_y) #NUMERATOR ITU PEMBILANG DI RUMUS\n",
    "r_denominator = ((n * sum_x2 - sum_x**2) * (n * sum_y2 - sum_y**2))**0.5 #DENOMATOR ITU PEMBAGI DI RUMUS\n",
    "r = r_numerator / r_denominator #INI KOEFISIEN KORELASINYA\n",
    "\n",
    "# Calculate the coefficient of determination (r^2)\n",
    "r_squared = r**2 #INI NILAI KOEFISIEN DETERMINASI\n",
    "\n",
    "print(f\"Koefisien Korelasi (r)      : {r} / {r*100}%\\\n",
    "      \\nKoefisien Diterminasi (r^2) : {r_squared} / {r_squared*100}%\")"
   ]
  },
  {
   "cell_type": "markdown",
   "id": "5bc7eb8f",
   "metadata": {},
   "source": [
    "Pakai corr() sesuai source code :"
   ]
  },
  {
   "cell_type": "code",
   "execution_count": 93,
   "id": "dd20e804",
   "metadata": {},
   "outputs": [
    {
     "data": {
      "text/html": [
       "<div>\n",
       "<style scoped>\n",
       "    .dataframe tbody tr th:only-of-type {\n",
       "        vertical-align: middle;\n",
       "    }\n",
       "\n",
       "    .dataframe tbody tr th {\n",
       "        vertical-align: top;\n",
       "    }\n",
       "\n",
       "    .dataframe thead th {\n",
       "        text-align: right;\n",
       "    }\n",
       "</style>\n",
       "<table border=\"1\" class=\"dataframe\">\n",
       "  <thead>\n",
       "    <tr style=\"text-align: right;\">\n",
       "      <th></th>\n",
       "      <th>Temperature_Mean</th>\n",
       "      <th>Estimated_fire_area</th>\n",
       "    </tr>\n",
       "  </thead>\n",
       "  <tbody>\n",
       "    <tr>\n",
       "      <th>Temperature_Mean</th>\n",
       "      <td>1.000000</td>\n",
       "      <td>0.212257</td>\n",
       "    </tr>\n",
       "    <tr>\n",
       "      <th>Estimated_fire_area</th>\n",
       "      <td>0.212257</td>\n",
       "      <td>1.000000</td>\n",
       "    </tr>\n",
       "  </tbody>\n",
       "</table>\n",
       "</div>"
      ],
      "text/plain": [
       "                     Temperature_Mean  Estimated_fire_area\n",
       "Temperature_Mean             1.000000             0.212257\n",
       "Estimated_fire_area          0.212257             1.000000"
      ]
     },
     "execution_count": 93,
     "metadata": {},
     "output_type": "execute_result"
    }
   ],
   "source": [
    "data[['Temperature_Mean','Estimated_fire_area']].corr()"
   ]
  },
  {
   "cell_type": "code",
   "execution_count": 94,
   "id": "2f5158d5",
   "metadata": {},
   "outputs": [
    {
     "name": "stdout",
     "output_type": "stream",
     "text": [
      "Results for the first case (image 2):\n",
      "t-statistic / hitung: 4.2895\n",
      "t-critical value: 1.9661\n",
      "Reject the null hypothesis: True\n",
      "\n"
     ]
    }
   ],
   "source": [
    "# Define a function to perform the hypothesis test using the correlation coefficient and number of observations\n",
    "def hypothesis_test(r, n, alpha=0.05):\n",
    "    # Degrees of freedom\n",
    "    df = n - 2\n",
    "    # Calculate the t-statistic\n",
    "    t_statistic = (r * (n - 2)**0.5) / ((1 - r**2)**0.5)\n",
    "    # Calculate the critical t-value for a two-tailed test\n",
    "    t_critical = t.ppf(1 - (alpha/2), df)\n",
    "    # Determine if we reject the null hypothesis\n",
    "    reject_null = abs(t_statistic) > t_critical\n",
    "    return t_statistic, t_critical, reject_null\n",
    "\n",
    "t_statistic_1, t_critical_1, reject_null_1 = hypothesis_test(r, n)\n",
    "\n",
    "# Print out the results for both cases\n",
    "print(f\"Results for the first case (image 2):\")\n",
    "print(f\"t-statistic / hitung: {t_statistic_1:.4f}\")\n",
    "print(f\"t-critical value: {t_critical_1:.4f}\")\n",
    "print(f\"Reject the null hypothesis: {reject_null_1}\\n\")"
   ]
  },
  {
   "cell_type": "markdown",
   "id": "ba23a966",
   "metadata": {},
   "source": [
    "Rumus model regresi nyari a dan b (PDF hal 28)"
   ]
  },
  {
   "cell_type": "code",
   "execution_count": 95,
   "id": "99087a9c",
   "metadata": {},
   "outputs": [
    {
     "name": "stdout",
     "output_type": "stream",
     "text": [
      "Intercept (a): -75.94103778766463\n",
      "Slope (b)    : 10.009412832305037\n"
     ]
    }
   ],
   "source": [
    "# Calculate the intercept (a)\n",
    "a = (sum_y * sum_x2 - sum_x * sum_xy) / (n * sum_x2 - sum_x**2)\n",
    "\n",
    "# Calculate the slope (b)\n",
    "b = (n * sum_xy - sum_x * sum_y) / (n * sum_x2 - sum_x**2)\n",
    "print(f\"Intercept (a): {a}\")\n",
    "print(f\"Slope (b)    : {b}\")"
   ]
  },
  {
   "cell_type": "markdown",
   "id": "53e13870",
   "metadata": {},
   "source": [
    "MODEL REGRESI MANUAL y_pred = -75.94+10(X)"
   ]
  },
  {
   "cell_type": "markdown",
   "id": "e05f2a66",
   "metadata": {},
   "source": [
    "PENENTUAN a, b dan model serta graph dengan library python"
   ]
  },
  {
   "cell_type": "code",
   "execution_count": 96,
   "id": "8d1a5a9d",
   "metadata": {},
   "outputs": [
    {
     "name": "stdout",
     "output_type": "stream",
     "text": [
      "Slope: b =  [[10.00941283]]\n",
      "Intercept: a =  [-75.94103779]\n"
     ]
    }
   ],
   "source": [
    "\n",
    "regr = linear_model.LinearRegression()\n",
    "x = data['Temperature_Mean'].values.reshape(-1, 1)\n",
    "y =  data['Estimated_fire_area'].values.reshape(-1, 1)\n",
    "regr.fit (x,y)\n",
    "# The coefficients\n",
    "print ('Slope: b = ', regr.coef_)\n",
    "print ('Intercept: a = ',regr.intercept_)"
   ]
  },
  {
   "cell_type": "code",
   "execution_count": 97,
   "id": "f254ed02",
   "metadata": {},
   "outputs": [
    {
     "data": {
      "text/plain": [
       "Text(0, 0.5, 'Estimated_fire_area')"
      ]
     },
     "execution_count": 97,
     "metadata": {},
     "output_type": "execute_result"
    },
    {
     "data": {
      "image/png": "[encoded data removed]",
      "text/plain": [
       "<Figure size 640x480 with 1 Axes>"
      ]
     },
     "metadata": {},
     "output_type": "display_data"
    }
   ],
   "source": [
    "plt.scatter(x, y,  color='blue')\n",
    "plt.plot(x, regr.coef_[0][0]*x + regr.intercept_[0], '-r')\n",
    "plt.xlabel(\"Temperature_Mean\")\n",
    "plt.ylabel(\"Estimated_fire_area\")"
   ]
  },
  {
   "cell_type": "markdown",
   "id": "a390078f",
   "metadata": {},
   "source": [
    "# Windspeed_mean (X) dengan Estimated_fire_area (Y)\n"
   ]
  },
  {
   "cell_type": "markdown",
   "id": "3abd6055",
   "metadata": {},
   "source": [
    "Ngikutin Tabel di pdf halaman 14 :"
   ]
  },
  {
   "cell_type": "code",
   "execution_count": 98,
   "id": "1d803bc6",
   "metadata": {},
   "outputs": [
    {
     "data": {
      "text/html": [
       "<div>\n",
       "<style scoped>\n",
       "    .dataframe tbody tr th:only-of-type {\n",
       "        vertical-align: middle;\n",
       "    }\n",
       "\n",
       "    .dataframe tbody tr th {\n",
       "        vertical-align: top;\n",
       "    }\n",
       "\n",
       "    .dataframe thead th {\n",
       "        text-align: right;\n",
       "    }\n",
       "</style>\n",
       "<table border=\"1\" class=\"dataframe\">\n",
       "  <thead>\n",
       "    <tr style=\"text-align: right;\">\n",
       "      <th></th>\n",
       "      <th>WindSpeed_Mean</th>\n",
       "      <th>Estimated_fire_area</th>\n",
       "      <th>x^2</th>\n",
       "      <th>y^2</th>\n",
       "      <th>xy</th>\n",
       "    </tr>\n",
       "  </thead>\n",
       "  <tbody>\n",
       "    <tr>\n",
       "      <th>0</th>\n",
       "      <td>3.551176</td>\n",
       "      <td>639.982000</td>\n",
       "      <td>12.610848</td>\n",
       "      <td>4.095770e+05</td>\n",
       "      <td>2272.688442</td>\n",
       "    </tr>\n",
       "    <tr>\n",
       "      <th>1</th>\n",
       "      <td>4.091700</td>\n",
       "      <td>593.569167</td>\n",
       "      <td>16.742012</td>\n",
       "      <td>3.523244e+05</td>\n",
       "      <td>2428.707213</td>\n",
       "    </tr>\n",
       "    <tr>\n",
       "      <th>2</th>\n",
       "      <td>4.637551</td>\n",
       "      <td>37.345455</td>\n",
       "      <td>21.506881</td>\n",
       "      <td>1.394683e+03</td>\n",
       "      <td>173.191456</td>\n",
       "    </tr>\n",
       "    <tr>\n",
       "      <th>3</th>\n",
       "      <td>4.334514</td>\n",
       "      <td>544.986486</td>\n",
       "      <td>18.788009</td>\n",
       "      <td>2.970103e+05</td>\n",
       "      <td>2362.251411</td>\n",
       "    </tr>\n",
       "    <tr>\n",
       "      <th>4</th>\n",
       "      <td>4.840414</td>\n",
       "      <td>35.823600</td>\n",
       "      <td>23.429606</td>\n",
       "      <td>1.283330e+03</td>\n",
       "      <td>173.401050</td>\n",
       "    </tr>\n",
       "    <tr>\n",
       "      <th>...</th>\n",
       "      <td>...</td>\n",
       "      <td>...</td>\n",
       "      <td>...</td>\n",
       "      <td>...</td>\n",
       "      <td>...</td>\n",
       "    </tr>\n",
       "    <tr>\n",
       "      <th>388</th>\n",
       "      <td>3.482381</td>\n",
       "      <td>35.423571</td>\n",
       "      <td>12.126980</td>\n",
       "      <td>1.254829e+03</td>\n",
       "      <td>123.358386</td>\n",
       "    </tr>\n",
       "    <tr>\n",
       "      <th>389</th>\n",
       "      <td>2.851847</td>\n",
       "      <td>14.536667</td>\n",
       "      <td>8.133034</td>\n",
       "      <td>2.113147e+02</td>\n",
       "      <td>41.456356</td>\n",
       "    </tr>\n",
       "    <tr>\n",
       "      <th>390</th>\n",
       "      <td>3.716907</td>\n",
       "      <td>1.000000</td>\n",
       "      <td>13.815394</td>\n",
       "      <td>1.000000e+00</td>\n",
       "      <td>3.716907</td>\n",
       "    </tr>\n",
       "    <tr>\n",
       "      <th>391</th>\n",
       "      <td>2.908519</td>\n",
       "      <td>2.200000</td>\n",
       "      <td>8.459481</td>\n",
       "      <td>4.840000e+00</td>\n",
       "      <td>6.398741</td>\n",
       "    </tr>\n",
       "    <tr>\n",
       "      <th>Σ</th>\n",
       "      <td>1463.801038</td>\n",
       "      <td>54972.473016</td>\n",
       "      <td>5804.253301</td>\n",
       "      <td>4.322438e+07</td>\n",
       "      <td>222019.745680</td>\n",
       "    </tr>\n",
       "  </tbody>\n",
       "</table>\n",
       "<p>393 rows × 5 columns</p>\n",
       "</div>"
      ],
      "text/plain": [
       "     WindSpeed_Mean  Estimated_fire_area          x^2           y^2  \\\n",
       "0          3.551176           639.982000    12.610848  4.095770e+05   \n",
       "1          4.091700           593.569167    16.742012  3.523244e+05   \n",
       "2          4.637551            37.345455    21.506881  1.394683e+03   \n",
       "3          4.334514           544.986486    18.788009  2.970103e+05   \n",
       "4          4.840414            35.823600    23.429606  1.283330e+03   \n",
       "..              ...                  ...          ...           ...   \n",
       "388        3.482381            35.423571    12.126980  1.254829e+03   \n",
       "389        2.851847            14.536667     8.133034  2.113147e+02   \n",
       "390        3.716907             1.000000    13.815394  1.000000e+00   \n",
       "391        2.908519             2.200000     8.459481  4.840000e+00   \n",
       "Σ       1463.801038         54972.473016  5804.253301  4.322438e+07   \n",
       "\n",
       "                xy  \n",
       "0      2272.688442  \n",
       "1      2428.707213  \n",
       "2       173.191456  \n",
       "3      2362.251411  \n",
       "4       173.401050  \n",
       "..             ...  \n",
       "388     123.358386  \n",
       "389      41.456356  \n",
       "390       3.716907  \n",
       "391       6.398741  \n",
       "Σ    222019.745680  \n",
       "\n",
       "[393 rows x 5 columns]"
      ]
     },
     "execution_count": 98,
     "metadata": {},
     "output_type": "execute_result"
    }
   ],
   "source": [
    "data = sample[['WindSpeed_Mean','Estimated_fire_area']]\n",
    "pd.options.mode.chained_assignment = None  # default='warn'\n",
    "\n",
    "data['x^2'] = data['WindSpeed_Mean'] ** 2\n",
    "data['y^2'] = data['Estimated_fire_area'] ** 2\n",
    "data['xy'] = data['WindSpeed_Mean'] * data['Estimated_fire_area']\n",
    "sums = data.sum().to_frame().T  \n",
    "sums.index = ['Σ']  \n",
    "data_with_sums = pd.concat([data, sums])\n",
    "\n",
    "data_with_sums"
   ]
  },
  {
   "cell_type": "markdown",
   "id": "5fc70f70",
   "metadata": {},
   "source": [
    "Rumus manual sesuai pdf halaman 14 :"
   ]
  },
  {
   "cell_type": "code",
   "execution_count": 99,
   "id": "65b98041",
   "metadata": {},
   "outputs": [
    {
     "name": "stdout",
     "output_type": "stream",
     "text": [
      "Koefisien Korelasi (r)      : 0.15277567819190982 / 15.277567819190981%      \n",
      "Koefisien Diterminasi (r^2) : 0.02334040784699799 / 2.334040784699799%\n"
     ]
    }
   ],
   "source": [
    "n = len(data_with_sums) - 1  # The number of observations, excluding the sum row\n",
    "sum_x = data_with_sums.iloc[-1]['WindSpeed_Mean']  # Σx\n",
    "sum_y = data_with_sums.iloc[-1]['Estimated_fire_area']  # Σy\n",
    "sum_x2 = data_with_sums.iloc[-1]['x^2']  # Σx^2\n",
    "sum_y2 = data_with_sums.iloc[-1]['y^2']  # Σy^2\n",
    "sum_xy = data_with_sums.iloc[-1]['xy']  # Σxy\n",
    "# print(sum_x,sum_y,sum_x2,sum_y2,sum_xy) #KALAU MAU AKSES SIGMA TIAP KOLOM**\n",
    "# Calculate the correlation coefficient (r)\n",
    "r_numerator = (n * sum_xy) - (sum_x * sum_y) #NUMERATOR ITU PEMBILANG DI RUMUS\n",
    "r_denominator = ((n * sum_x2 - sum_x**2) * (n * sum_y2 - sum_y**2))**0.5 #DENOMATOR ITU PEMBAGI DI RUMUS\n",
    "r = r_numerator / r_denominator #INI KOEFISIEN KORELASINYA\n",
    "\n",
    "# Calculate the coefficient of determination (r^2)\n",
    "r_squared = r**2 #INI NILAI KOEFISIEN DETERMINASI\n",
    "\n",
    "print(f\"Koefisien Korelasi (r)      : {r} / {r*100}%\\\n",
    "      \\nKoefisien Diterminasi (r^2) : {r_squared} / {r_squared*100}%\")"
   ]
  },
  {
   "cell_type": "markdown",
   "id": "a769c0d6",
   "metadata": {},
   "source": [
    "Pakai corr() sesuai source code :"
   ]
  },
  {
   "cell_type": "code",
   "execution_count": 100,
   "id": "bf9ab83c",
   "metadata": {},
   "outputs": [
    {
     "data": {
      "text/html": [
       "<div>\n",
       "<style scoped>\n",
       "    .dataframe tbody tr th:only-of-type {\n",
       "        vertical-align: middle;\n",
       "    }\n",
       "\n",
       "    .dataframe tbody tr th {\n",
       "        vertical-align: top;\n",
       "    }\n",
       "\n",
       "    .dataframe thead th {\n",
       "        text-align: right;\n",
       "    }\n",
       "</style>\n",
       "<table border=\"1\" class=\"dataframe\">\n",
       "  <thead>\n",
       "    <tr style=\"text-align: right;\">\n",
       "      <th></th>\n",
       "      <th>WindSpeed_Mean</th>\n",
       "      <th>Estimated_fire_area</th>\n",
       "    </tr>\n",
       "  </thead>\n",
       "  <tbody>\n",
       "    <tr>\n",
       "      <th>WindSpeed_Mean</th>\n",
       "      <td>1.000000</td>\n",
       "      <td>0.152776</td>\n",
       "    </tr>\n",
       "    <tr>\n",
       "      <th>Estimated_fire_area</th>\n",
       "      <td>0.152776</td>\n",
       "      <td>1.000000</td>\n",
       "    </tr>\n",
       "  </tbody>\n",
       "</table>\n",
       "</div>"
      ],
      "text/plain": [
       "                     WindSpeed_Mean  Estimated_fire_area\n",
       "WindSpeed_Mean             1.000000             0.152776\n",
       "Estimated_fire_area        0.152776             1.000000"
      ]
     },
     "execution_count": 100,
     "metadata": {},
     "output_type": "execute_result"
    }
   ],
   "source": [
    "data[['WindSpeed_Mean','Estimated_fire_area']].corr()"
   ]
  },
  {
   "cell_type": "code",
   "execution_count": 101,
   "id": "8088ea6b",
   "metadata": {},
   "outputs": [
    {
     "name": "stdout",
     "output_type": "stream",
     "text": [
      "Results for the first case (image 2):\n",
      "t-statistic / hitung: 3.0529\n",
      "t-critical value: 1.9661\n",
      "Reject the null hypothesis: True\n",
      "\n"
     ]
    }
   ],
   "source": [
    "t_statistic_1, t_critical_1, reject_null_1 = hypothesis_test(r, n)\n",
    "\n",
    "# Print out the results for both cases\n",
    "print(f\"Results for the first case (image 2):\")\n",
    "print(f\"t-statistic / hitung: {t_statistic_1:.4f}\")\n",
    "print(f\"t-critical value: {t_critical_1:.4f}\")\n",
    "print(f\"Reject the null hypothesis: {reject_null_1}\\n\")"
   ]
  },
  {
   "cell_type": "markdown",
   "id": "85e533f6",
   "metadata": {},
   "source": [
    "Rumus model regresi nyari a dan b (PDF hal 28)"
   ]
  },
  {
   "cell_type": "code",
   "execution_count": 102,
   "id": "45321ebb",
   "metadata": {},
   "outputs": [
    {
     "name": "stdout",
     "output_type": "stream",
     "text": [
      "Intercept (a): -44.650363996687524\n",
      "Slope (b)    : 49.5117941855621\n"
     ]
    }
   ],
   "source": [
    "# Calculate the intercept (a)\n",
    "a = (sum_y * sum_x2 - sum_x * sum_xy) / (n * sum_x2 - sum_x**2)\n",
    "\n",
    "# Calculate the slope (b)\n",
    "b = (n * sum_xy - sum_x * sum_y) / (n * sum_x2 - sum_x**2)\n",
    "print(f\"Intercept (a): {a}\")\n",
    "print(f\"Slope (b)    : {b}\")"
   ]
  },
  {
   "cell_type": "markdown",
   "id": "9e8c49b0",
   "metadata": {},
   "source": [
    "MODEL REGRESI MANUAL y_pred = -44.65+49.51(X)"
   ]
  },
  {
   "cell_type": "markdown",
   "id": "cadd77a8",
   "metadata": {},
   "source": [
    "PENENTUAN a, b dan model serta graph dengan library python"
   ]
  },
  {
   "cell_type": "code",
   "execution_count": 105,
   "id": "f9d2be72",
   "metadata": {},
   "outputs": [
    {
     "name": "stdout",
     "output_type": "stream",
     "text": [
      "Slope: b =  [[49.51179419]]\n",
      "Intercept: a =  [-44.650364]\n"
     ]
    }
   ],
   "source": [
    "\n",
    "regr = linear_model.LinearRegression()\n",
    "x = data['WindSpeed_Mean'].values.reshape(-1, 1)\n",
    "y =  data['Estimated_fire_area'].values.reshape(-1, 1)\n",
    "regr.fit (x,y)\n",
    "# The coefficients\n",
    "print ('Slope: b = ', regr.coef_)\n",
    "print ('Intercept: a = ',regr.intercept_)"
   ]
  },
  {
   "cell_type": "code",
   "execution_count": 106,
   "id": "f008d867",
   "metadata": {},
   "outputs": [
    {
     "data": {
      "text/plain": [
       "Text(0, 0.5, 'Estimated_fire_area')"
      ]
     },
     "execution_count": 106,
     "metadata": {},
     "output_type": "execute_result"
    },
    {
     "data": {
      "image/png": "[encoded data removed]",
      "text/plain": [
       "<Figure size 640x480 with 1 Axes>"
      ]
     },
     "metadata": {},
     "output_type": "display_data"
    }
   ],
   "source": [
    "plt.scatter(x, y,  color='blue')\n",
    "plt.plot(x, regr.coef_[0][0]*x + regr.intercept_[0], '-r')\n",
    "plt.xlabel(\"WindSpeed_Mean\")\n",
    "plt.ylabel(\"Estimated_fire_area\")"
   ]
  },
  {
   "cell_type": "code",
   "execution_count": null,
   "id": "7ef80ce3",
   "metadata": {},
   "outputs": [],
   "source": []
  }
 ],
 "metadata": {
  "kernelspec": {
   "display_name": "Python 3 (ipykernel)",
   "language": "python",
   "name": "python3"
  },
  "language_info": {
   "codemirror_mode": {
    "name": "ipython",
    "version": 3
   },
   "file_extension": ".py",
   "mimetype": "text/x-python",
   "name": "python",
   "nbconvert_exporter": "python",
   "pygments_lexer": "ipython3",
   "version": "3.11.2"
  }
 },
 "nbformat": 4,
 "nbformat_minor": 5
}
